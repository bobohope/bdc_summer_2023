{
 "cells": [
  {
   "cell_type": "markdown",
   "metadata": {},
   "source": [
    "# Hypothesis Test Basic Example"
   ]
  },
  {
   "cell_type": "code",
   "execution_count": 1,
   "metadata": {},
   "outputs": [],
   "source": [
    "import pandas as pd"
   ]
  },
  {
   "cell_type": "code",
   "execution_count": 2,
   "metadata": {},
   "outputs": [],
   "source": [
    "df = pd.DataFrame({'x1': [1, 2, 2, 4, 2, 1, 5, 4, 2, 4, 4],\n",
    "                   'x2': [1, 3, 3, 5, 2, 2, 1, 1, 0, 3, 4],\n",
    "                   'y': [76, 78, 85, 88, 72, 69, 94, 94, 88, 92, 90]})"
   ]
  },
  {
   "cell_type": "code",
   "execution_count": 3,
   "metadata": {},
   "outputs": [
    {
     "data": {
      "text/html": [
       "<div>\n",
       "<style scoped>\n",
       "    .dataframe tbody tr th:only-of-type {\n",
       "        vertical-align: middle;\n",
       "    }\n",
       "\n",
       "    .dataframe tbody tr th {\n",
       "        vertical-align: top;\n",
       "    }\n",
       "\n",
       "    .dataframe thead th {\n",
       "        text-align: right;\n",
       "    }\n",
       "</style>\n",
       "<table border=\"1\" class=\"dataframe\">\n",
       "  <thead>\n",
       "    <tr style=\"text-align: right;\">\n",
       "      <th></th>\n",
       "      <th>x1</th>\n",
       "      <th>x2</th>\n",
       "      <th>y</th>\n",
       "    </tr>\n",
       "  </thead>\n",
       "  <tbody>\n",
       "    <tr>\n",
       "      <th>0</th>\n",
       "      <td>1</td>\n",
       "      <td>1</td>\n",
       "      <td>76</td>\n",
       "    </tr>\n",
       "    <tr>\n",
       "      <th>1</th>\n",
       "      <td>2</td>\n",
       "      <td>3</td>\n",
       "      <td>78</td>\n",
       "    </tr>\n",
       "    <tr>\n",
       "      <th>2</th>\n",
       "      <td>2</td>\n",
       "      <td>3</td>\n",
       "      <td>85</td>\n",
       "    </tr>\n",
       "    <tr>\n",
       "      <th>3</th>\n",
       "      <td>4</td>\n",
       "      <td>5</td>\n",
       "      <td>88</td>\n",
       "    </tr>\n",
       "    <tr>\n",
       "      <th>4</th>\n",
       "      <td>2</td>\n",
       "      <td>2</td>\n",
       "      <td>72</td>\n",
       "    </tr>\n",
       "  </tbody>\n",
       "</table>\n",
       "</div>"
      ],
      "text/plain": [
       "   x1  x2   y\n",
       "0   1   1  76\n",
       "1   2   3  78\n",
       "2   2   3  85\n",
       "3   4   5  88\n",
       "4   2   2  72"
      ]
     },
     "execution_count": 3,
     "metadata": {},
     "output_type": "execute_result"
    }
   ],
   "source": [
    "df.head()"
   ]
  },
  {
   "cell_type": "markdown",
   "metadata": {},
   "source": [
    "# scikit learn Version\n",
    "- display regression coefficients and R-square"
   ]
  },
  {
   "cell_type": "code",
   "execution_count": 4,
   "metadata": {},
   "outputs": [
    {
     "data": {
      "text/plain": [
       "LinearRegression()"
      ]
     },
     "execution_count": 4,
     "metadata": {},
     "output_type": "execute_result"
    }
   ],
   "source": [
    "from sklearn.linear_model import LinearRegression\n",
    "\n",
    "#initiate linear regression model\n",
    "model = LinearRegression()\n",
    "\n",
    "#define predictor and response variables\n",
    "X, y = df[['x1', 'x2']], df.y\n",
    "\n",
    "#fit regression model\n",
    "model.fit(X, y)"
   ]
  },
  {
   "cell_type": "code",
   "execution_count": 5,
   "metadata": {},
   "outputs": [
    {
     "name": "stdout",
     "output_type": "stream",
     "text": [
      "70.48282057040197 [ 5.79452055 -1.15764653] 0.7667425565278788\n"
     ]
    }
   ],
   "source": [
    "#display regression coefficients and R-squared value of model\n",
    "print(model.intercept_, model.coef_, model.score(X, y))"
   ]
  },
  {
   "cell_type": "markdown",
   "metadata": {},
   "source": [
    "#  Statsmodels "
   ]
  },
  {
   "cell_type": "code",
   "execution_count": 6,
   "metadata": {},
   "outputs": [
    {
     "name": "stdout",
     "output_type": "stream",
     "text": [
      "                            OLS Regression Results                            \n",
      "==============================================================================\n",
      "Dep. Variable:                      y   R-squared:                       0.767\n",
      "Model:                            OLS   Adj. R-squared:                  0.708\n",
      "Method:                 Least Squares   F-statistic:                     13.15\n",
      "Date:                Mon, 28 Aug 2023   Prob (F-statistic):            0.00296\n",
      "Time:                        22:27:22   Log-Likelihood:                -31.191\n",
      "No. Observations:                  11   AIC:                             68.38\n",
      "Df Residuals:                       8   BIC:                             69.57\n",
      "Df Model:                           2                                         \n",
      "Covariance Type:            nonrobust                                         \n",
      "==============================================================================\n",
      "                 coef    std err          t      P>|t|      [0.025      0.975]\n",
      "------------------------------------------------------------------------------\n",
      "const         70.4828      3.749     18.803      0.000      61.839      79.127\n",
      "x1             5.7945      1.132      5.120      0.001       3.185       8.404\n",
      "x2            -1.1576      1.065     -1.087      0.309      -3.613       1.298\n",
      "==============================================================================\n",
      "Omnibus:                        0.198   Durbin-Watson:                   1.240\n",
      "Prob(Omnibus):                  0.906   Jarque-Bera (JB):                0.296\n",
      "Skew:                          -0.242   Prob(JB):                        0.862\n",
      "Kurtosis:                       2.359   Cond. No.                         10.7\n",
      "==============================================================================\n",
      "\n",
      "Notes:\n",
      "[1] Standard Errors assume that the covariance matrix of the errors is correctly specified.\n"
     ]
    },
    {
     "name": "stderr",
     "output_type": "stream",
     "text": [
      "/home/bobohope/anaconda3/lib/python3.9/site-packages/scipy/stats/_stats_py.py:1769: UserWarning: kurtosistest only valid for n>=20 ... continuing anyway, n=11\n",
      "  warnings.warn(\"kurtosistest only valid for n>=20 ... continuing \"\n"
     ]
    }
   ],
   "source": [
    "import statsmodels.api as sm\n",
    "\n",
    "#define response variable\n",
    "y = df['y']\n",
    "\n",
    "#define predictor variables\n",
    "x = df[['x1', 'x2']]\n",
    "\n",
    "#add constant to predictor variables\n",
    "x = sm.add_constant(x)\n",
    "\n",
    "#fit linear regression model\n",
    "model = sm.OLS(y, x).fit()\n",
    "\n",
    "#view model summary\n",
    "print(model.summary())\n"
   ]
  },
  {
   "cell_type": "markdown",
   "metadata": {},
   "source": [
    "# one way ANOVA"
   ]
  },
  {
   "cell_type": "code",
   "execution_count": 7,
   "metadata": {},
   "outputs": [],
   "source": [
    "from scipy.stats import f_oneway\n"
   ]
  },
  {
   "cell_type": "code",
   "execution_count": 8,
   "metadata": {},
   "outputs": [],
   "source": [
    "a1 = [89, 89, 88, 78, 79]\n",
    "a2 = [93, 92, 94, 89, 88]\n",
    "a3 = [89, 88, 89, 93, 90]\n",
    "a4 = [81, 78, 81, 92, 82]"
   ]
  },
  {
   "cell_type": "code",
   "execution_count": 9,
   "metadata": {},
   "outputs": [
    {
     "data": {
      "text/plain": [
       "F_onewayResult(statistic=4.625000000000002, pvalue=0.016336459839780215)"
      ]
     },
     "execution_count": 9,
     "metadata": {},
     "output_type": "execute_result"
    }
   ],
   "source": [
    "f_oneway(a1, a2, a3, a4)"
   ]
  },
  {
   "cell_type": "code",
   "execution_count": 10,
   "metadata": {},
   "outputs": [],
   "source": [
    "import matplotlib.pyplot as plt\n",
    "import seaborn as sns"
   ]
  },
  {
   "cell_type": "code",
   "execution_count": 11,
   "metadata": {},
   "outputs": [
    {
     "data": {
      "text/plain": [
       "{'whiskers': [<matplotlib.lines.Line2D at 0x7f65b66c64c0>,\n",
       "  <matplotlib.lines.Line2D at 0x7f65b66c6790>,\n",
       "  <matplotlib.lines.Line2D at 0x7f65b66608e0>,\n",
       "  <matplotlib.lines.Line2D at 0x7f65b6660bb0>,\n",
       "  <matplotlib.lines.Line2D at 0x7f65b666fcd0>,\n",
       "  <matplotlib.lines.Line2D at 0x7f65b666ffa0>,\n",
       "  <matplotlib.lines.Line2D at 0x7f65b6689100>,\n",
       "  <matplotlib.lines.Line2D at 0x7f65b66893d0>],\n",
       " 'caps': [<matplotlib.lines.Line2D at 0x7f65b66c6a60>,\n",
       "  <matplotlib.lines.Line2D at 0x7f65b66c6d30>,\n",
       "  <matplotlib.lines.Line2D at 0x7f65b6660e80>,\n",
       "  <matplotlib.lines.Line2D at 0x7f65b666f190>,\n",
       "  <matplotlib.lines.Line2D at 0x7f65b667b2b0>,\n",
       "  <matplotlib.lines.Line2D at 0x7f65b667b580>,\n",
       "  <matplotlib.lines.Line2D at 0x7f65b66896a0>,\n",
       "  <matplotlib.lines.Line2D at 0x7f65b6689970>],\n",
       " 'boxes': [<matplotlib.lines.Line2D at 0x7f65b66c61f0>,\n",
       "  <matplotlib.lines.Line2D at 0x7f65b6660610>,\n",
       "  <matplotlib.lines.Line2D at 0x7f65b666fa00>,\n",
       "  <matplotlib.lines.Line2D at 0x7f65b667bdf0>],\n",
       " 'medians': [<matplotlib.lines.Line2D at 0x7f65b6660040>,\n",
       "  <matplotlib.lines.Line2D at 0x7f65b666f460>,\n",
       "  <matplotlib.lines.Line2D at 0x7f65b667b850>,\n",
       "  <matplotlib.lines.Line2D at 0x7f65b6689c40>],\n",
       " 'fliers': [<matplotlib.lines.Line2D at 0x7f65b6660310>,\n",
       "  <matplotlib.lines.Line2D at 0x7f65b666f730>,\n",
       "  <matplotlib.lines.Line2D at 0x7f65b667bb20>,\n",
       "  <matplotlib.lines.Line2D at 0x7f65b6689f10>],\n",
       " 'means': []}"
      ]
     },
     "execution_count": 11,
     "metadata": {},
     "output_type": "execute_result"
    },
    {
     "data": {
      "image/png": "[encoded data removed]",
      "text/plain": [
       "<Figure size 640x480 with 1 Axes>"
      ]
     },
     "metadata": {},
     "output_type": "display_data"
    }
   ],
   "source": [
    "fig, ax = plt.subplots()\n",
    "ax.boxplot([a1,a2,a3,a4])\n",
    "# plot.show()\n",
    "# ax.set_xticklabels(my_dict.keys())"
   ]
  },
  {
   "cell_type": "code",
   "execution_count": null,
   "metadata": {},
   "outputs": [],
   "source": []
  }
 ],
 "metadata": {
  "kernelspec": {
   "display_name": "Python 3 (ipykernel)",
   "language": "python",
   "name": "python3"
  },
  "language_info": {
   "codemirror_mode": {
    "name": "ipython",
    "version": 3
   },
   "file_extension": ".py",
   "mimetype": "text/x-python",
   "name": "python",
   "nbconvert_exporter": "python",
   "pygments_lexer": "ipython3",
   "version": "3.9.13"
  }
 },
 "nbformat": 4,
 "nbformat_minor": 2
}
