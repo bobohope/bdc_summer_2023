{
 "cells": [
  {
   "cell_type": "markdown",
   "id": "68294cfa",
   "metadata": {},
   "source": [
    "# Chi Square Test for core house need"
   ]
  },
  {
   "cell_type": "code",
   "execution_count": 1,
   "id": "f539204c",
   "metadata": {},
   "outputs": [],
   "source": [
    "# reference\n",
    "# https://docs.scipy.org/doc/scipy/reference/generated/scipy.stats.chisquare.html"
   ]
  },
  {
   "cell_type": "code",
   "execution_count": 2,
   "id": "cc409a87",
   "metadata": {},
   "outputs": [],
   "source": [
    "from scipy.stats import chisquare"
   ]
  },
  {
   "cell_type": "code",
   "execution_count": 3,
   "id": "cba1cf20",
   "metadata": {},
   "outputs": [],
   "source": [
    "# age group\n",
    "vector_1 = [741260, 658370, 654860, 867550, 570045]\n",
    "vector_2 = [5495985, 6093835, 6521040, 9369595, 5322670]\n",
    "sum_v1 = sum(vector_1)\n",
    "sum_v2 = sum(vector_2)\n",
    "nor_vector_2 = [x*sum_v1/sum_v2 for x in vector_2]\n"
   ]
  },
  {
   "cell_type": "code",
   "execution_count": 4,
   "id": "c9d5610d",
   "metadata": {},
   "outputs": [
    {
     "name": "stdout",
     "output_type": "stream",
     "text": [
      "chi square:  61000.90585883269\n"
     ]
    }
   ],
   "source": [
    "# (o-c)^2 / c\n",
    "chisquare = 0\n",
    "for i in range(len(vector_1)):\n",
    "    chisquare = chisquare + (vector_1[i]-nor_vector_2[i])*(vector_1[i]-nor_vector_2[i])/nor_vector_2[i]\n",
    "print('chi square: ', chisquare)"
   ]
  },
  {
   "cell_type": "code",
   "execution_count": 5,
   "id": "a6544543",
   "metadata": {},
   "outputs": [
    {
     "data": {
      "text/plain": [
       "Power_divergenceResult(statistic=61000.90585883269, pvalue=0.0)"
      ]
     },
     "execution_count": 5,
     "metadata": {},
     "output_type": "execute_result"
    }
   ],
   "source": [
    "# age group\n",
    "from scipy.stats import chisquare\n",
    "chisquare(vector_1, f_exp=nor_vector_2, ddof = 3)\n",
    "# close to zero"
   ]
  },
  {
   "cell_type": "code",
   "execution_count": 6,
   "id": "7c3c263b",
   "metadata": {},
   "outputs": [
    {
     "data": {
      "text/plain": [
       "Power_divergenceResult(statistic=1639091.850692116, pvalue=nan)"
      ]
     },
     "execution_count": 6,
     "metadata": {},
     "output_type": "execute_result"
    }
   ],
   "source": [
    "# Living arrangements\n",
    "vector_1 = [37950,117150,822315,927440,357965,556705,592690,49500,30360]\n",
    "vector_2 = [274460,957130,3652800,15869640,1508135,7477445,2302925,467685,292900]\n",
    "sum_v1 = sum(vector_1)\n",
    "sum_v2 = sum(vector_2)\n",
    "nor_vector_2 = [x*sum_v1/sum_v2 for x in vector_2]\n",
    "chisquare(vector_1, f_exp=nor_vector_2, ddof = 8)"
   ]
  },
  {
   "cell_type": "code",
   "execution_count": 7,
   "id": "fa355bc5",
   "metadata": {},
   "outputs": [
    {
     "data": {
      "text/plain": [
       "[37950, 117150, 822315, 927440, 357965, 556705, 592690, 49500, 30360]"
      ]
     },
     "execution_count": 7,
     "metadata": {},
     "output_type": "execute_result"
    }
   ],
   "source": [
    "vector_1"
   ]
  },
  {
   "cell_type": "code",
   "execution_count": 8,
   "id": "28fcbfc0",
   "metadata": {},
   "outputs": [
    {
     "data": {
      "text/plain": [
       "Power_divergenceResult(statistic=267082.05627260194, pvalue=nan)"
      ]
     },
     "execution_count": 8,
     "metadata": {},
     "output_type": "execute_result"
    }
   ],
   "source": [
    "#  25,240,545 \t 2,287,215 \n",
    "#  384,615 \t 80,065 \n",
    "#  7,177,960 \t 1,124,790 \n",
    "# immigration status\n",
    "# Living arrangements\n",
    "vector_1 = [2287215,80065,1124790]\n",
    "vector_2 = [25240545,384615,7177960]\n",
    "sum_v1 = sum(vector_1)\n",
    "sum_v2 = sum(vector_2)\n",
    "nor_vector_2 = [x*sum_v1/sum_v2 for x in vector_2]\n",
    "chisquare(vector_1, f_exp=nor_vector_2, ddof = 2)"
   ]
  },
  {
   "cell_type": "code",
   "execution_count": 9,
   "id": "1197ca15",
   "metadata": {},
   "outputs": [
    {
     "data": {
      "text/plain": [
       "Power_divergenceResult(statistic=10454784.180119058, pvalue=nan)"
      ]
     },
     "execution_count": 9,
     "metadata": {},
     "output_type": "execute_result"
    }
   ],
   "source": [
    "#  119,985 \t 89,325 \n",
    "#  1,010,940 \t 722,075 \n",
    "#  1,679,635 \t 921,455 \n",
    "#  2,189,680 \t 765,085 \n",
    "#  2,310,680 \t 529,085 \n",
    "#  25,492,195 \t 465,045 \n",
    "# income group\n",
    "vector_1 = [89325,722075,921455,765085,529085,465045]\n",
    "vector_2 = [119985,1010940,1679635,2189680,2310680,25492195]\n",
    "sum_v1 = sum(vector_1)\n",
    "sum_v2 = sum(vector_2)\n",
    "nor_vector_2 = [x*sum_v1/sum_v2 for x in vector_2]\n",
    "chisquare(vector_1, f_exp=nor_vector_2, ddof = 5)"
   ]
  },
  {
   "cell_type": "code",
   "execution_count": 10,
   "id": "1a37f959",
   "metadata": {},
   "outputs": [
    {
     "data": {
      "text/plain": [
       "Power_divergenceResult(statistic=576174.6756619402, pvalue=nan)"
      ]
     },
     "execution_count": 10,
     "metadata": {},
     "output_type": "execute_result"
    }
   ],
   "source": [
    "#  14,912,620 \t 2,190,975 \n",
    "\n",
    "#  1,334,020 \t 212,550 \n",
    "\n",
    "#  12,766,245 \t 704,705 \n",
    "#  2,976,630 \t 316,005 \n",
    "# labour force status\n",
    "vector_1 = [2190975,212550,704705,316005]\n",
    "vector_2 = [14912620,1334020,12766245,2976630]\n",
    "sum_v1 = sum(vector_1)\n",
    "sum_v2 = sum(vector_2)\n",
    "nor_vector_2 = [x*sum_v1/sum_v2 for x in vector_2]\n",
    "chisquare(vector_1, f_exp=nor_vector_2, ddof = 4)\n",
    "\n"
   ]
  },
  {
   "cell_type": "code",
   "execution_count": 11,
   "id": "8f755262",
   "metadata": {},
   "outputs": [
    {
     "data": {
      "text/plain": [
       "Power_divergenceResult(statistic=206.30431899436002, pvalue=nan)"
      ]
     },
     "execution_count": 11,
     "metadata": {},
     "output_type": "execute_result"
    }
   ],
   "source": [
    "vector_1 = [3074,520244-3074]\n",
    "vector_2 = [234646,30700613-234646]\n",
    "sum_v1 = sum(vector_1)\n",
    "sum_v2 = sum(vector_2)\n",
    "nor_vector_2 = [x*sum_v1/sum_v2 for x in vector_2]\n",
    "chisquare(vector_1, f_exp=nor_vector_2, ddof = 1)"
   ]
  },
  {
   "cell_type": "code",
   "execution_count": 12,
   "id": "af3c15bc",
   "metadata": {},
   "outputs": [
    {
     "data": {
      "text/plain": [
       "Power_divergenceResult(statistic=217334.14849116982, pvalue=nan)"
      ]
     },
     "execution_count": 12,
     "metadata": {},
     "output_type": "execute_result"
    }
   ],
   "source": [
    "vector_1 = [3957669,119099471-3957669]\n",
    "vector_2 = [275602150,6597001578-275602150]\n",
    "sum_v1 = sum(vector_1)\n",
    "sum_v2 = sum(vector_2)\n",
    "nor_vector_2 = [x*sum_v1/sum_v2 for x in vector_2]\n",
    "chisquare(vector_1, f_exp=nor_vector_2, ddof = 1)"
   ]
  },
  {
   "cell_type": "code",
   "execution_count": 13,
   "id": "703fa2bd",
   "metadata": {},
   "outputs": [
    {
     "data": {
      "text/plain": [
       "Power_divergenceResult(statistic=723.3698287755354, pvalue=nan)"
      ]
     },
     "execution_count": 13,
     "metadata": {},
     "output_type": "execute_result"
    }
   ],
   "source": [
    "vector_1 = [25186,1831599-25186]\n",
    "vector_2 = [1691895,104023167-1691895]\n",
    "sum_v1 = sum(vector_1)\n",
    "sum_v2 = sum(vector_2)\n",
    "nor_vector_2 = [x*sum_v1/sum_v2 for x in vector_2]\n",
    "chisquare(vector_1, f_exp=nor_vector_2, ddof = 1)"
   ]
  },
  {
   "cell_type": "code",
   "execution_count": null,
   "id": "549507bb",
   "metadata": {},
   "outputs": [],
   "source": []
  },
  {
   "cell_type": "code",
   "execution_count": null,
   "id": "8144afc9",
   "metadata": {},
   "outputs": [],
   "source": []
  }
 ],
 "metadata": {
  "kernelspec": {
   "display_name": "Python 3 (ipykernel)",
   "language": "python",
   "name": "python3"
  },
  "language_info": {
   "codemirror_mode": {
    "name": "ipython",
    "version": 3
   },
   "file_extension": ".py",
   "mimetype": "text/x-python",
   "name": "python",
   "nbconvert_exporter": "python",
   "pygments_lexer": "ipython3",
   "version": "3.9.13"
  }
 },
 "nbformat": 4,
 "nbformat_minor": 5
}
