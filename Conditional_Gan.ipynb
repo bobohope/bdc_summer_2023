{
  "cells": [
    {
      "cell_type": "markdown",
      "metadata": {
        "id": "view-in-github",
        "colab_type": "text"
      },
      "source": [
        "<a href=\"https://colab.research.google.com/github/bobohope/bdc_summer_2023/blob/main/Conditional_Gan.ipynb\" target=\"_parent\"><img src=\"https://colab.research.google.com/assets/colab-badge.svg\" alt=\"Open In Colab\"/></a>"
      ]
    },
    {
      "cell_type": "markdown",
      "metadata": {
        "id": "dXUs8sYI0bqm"
      },
      "source": [
        "# Conditional GAN\n",
        "\n",
        "**Author:** [Sayak Paul](https://twitter.com/RisingSayak)<br>\n",
        "**Date created:** 2021/07/13<br>\n",
        "**Last modified:** 2021/07/15<br>\n",
        "**Description:** Training a GAN conditioned on class labels to generate handwritten digits."
      ]
    },
    {
      "cell_type": "markdown",
      "metadata": {
        "id": "mTD40cmw0bqq"
      },
      "source": [
        "Generative Adversarial Networks (GANs) let us generate novel image data, video data,\n",
        "or audio data from a random input. Typically, the random input is sampled\n",
        "from a normal distribution, before going through a series of transformations that turn\n",
        "it into something plausible (image, video, audio, etc.).\n",
        "\n",
        "However, a simple [DCGAN](https://arxiv.org/abs/1511.06434) doesn't let us control\n",
        "the appearance (e.g. class) of the samples we're generating. For instance,\n",
        "with a GAN that generates MNIST handwritten digits, a simple DCGAN wouldn't let us\n",
        "choose the class of digits we're generating.\n",
        "To be able to control what we generate, we need to _condition_ the GAN output\n",
        "on a semantic input, such as the class of an image.\n",
        "\n",
        "In this example, we'll build a **Conditional GAN** that can generate MNIST handwritten\n",
        "digits conditioned on a given class. Such a model can have various useful applications:\n",
        "\n",
        "* let's say you are dealing with an\n",
        "[imbalanced image dataset](https://developers.google.com/machine-learning/data-prep/construct/sampling-splitting/imbalanced-data),\n",
        "and you'd like to gather more examples for the skewed class to balance the dataset.\n",
        "Data collection can be a costly process on its own. You could instead train a Conditional GAN and use\n",
        "it to generate novel images for the class that needs balancing.\n",
        "* Since the generator learns to associate the generated samples with the class labels,\n",
        "its representations can also be used for [other downstream tasks](https://arxiv.org/abs/1809.11096).\n",
        "\n",
        "Following are the references used for developing this example:\n",
        "\n",
        "* [Conditional Generative Adversarial Nets](https://arxiv.org/abs/1411.1784)\n",
        "* [Lecture on Conditional Generation from Coursera](https://www.coursera.org/lecture/build-basic-generative-adversarial-networks-gans/conditional-generation-inputs-2OPrG)\n",
        "\n",
        "If you need a refresher on GANs, you can refer to the \"Generative adversarial networks\"\n",
        "section of\n",
        "[this resource](https://livebook.manning.com/book/deep-learning-with-python-second-edition/chapter-12/r-3/232).\n",
        "\n",
        "This example requires TensorFlow 2.5 or higher, as well as TensorFlow Docs, which can be\n",
        "installed using the following command:"
      ]
    },
    {
      "cell_type": "code",
      "execution_count": 1,
      "metadata": {
        "id": "MJCD8drX0bqr",
        "colab": {
          "base_uri": "https://localhost:8080/"
        },
        "outputId": "ff2a9a19-fe5c-4fd6-c193-8b85640f1d4a"
      },
      "outputs": [
        {
          "output_type": "stream",
          "name": "stdout",
          "text": [
            "  Preparing metadata (setup.py) ... \u001b[?25l\u001b[?25hdone\n",
            "  Building wheel for tensorflow-docs (setup.py) ... \u001b[?25l\u001b[?25hdone\n"
          ]
        }
      ],
      "source": [
        "!pip install -q git+https://github.com/tensorflow/docs"
      ]
    },
    {
      "cell_type": "markdown",
      "metadata": {
        "id": "k-Lz0qJM0bqs"
      },
      "source": [
        "## Imports"
      ]
    },
    {
      "cell_type": "code",
      "source": [
        "import pandas as pd\n",
        "import numpy as np"
      ],
      "metadata": {
        "id": "xXFG_zfK09Hk"
      },
      "execution_count": 1,
      "outputs": []
    },
    {
      "cell_type": "code",
      "execution_count": 2,
      "metadata": {
        "id": "cFbkKSbH0bqt"
      },
      "outputs": [],
      "source": [
        "from tensorflow import keras\n",
        "from tensorflow.keras import layers\n",
        "\n",
        "from tensorflow_docs.vis import embed\n",
        "import tensorflow as tf\n",
        "import numpy as np\n",
        "import imageio"
      ]
    },
    {
      "cell_type": "markdown",
      "metadata": {
        "id": "q_RvW4Hy0bqt"
      },
      "source": [
        "## Constants and hyperparameters"
      ]
    },
    {
      "cell_type": "code",
      "execution_count": 3,
      "metadata": {
        "id": "k2BuQP6g0bqt"
      },
      "outputs": [],
      "source": [
        "batch_size = 64\n",
        "num_channels = 1\n",
        "image_size = 16\n",
        "latent_dim = 128\n",
        "hold_out_frac = 0.1\n",
        "positive_threshold = 0.5"
      ]
    },
    {
      "cell_type": "markdown",
      "metadata": {
        "id": "p3fU_cY-0bqu"
      },
      "source": [
        "## Loading the MNIST dataset and preprocessing it"
      ]
    },
    {
      "cell_type": "code",
      "metadata": {
        "colab": {
          "base_uri": "https://localhost:8080/"
        },
        "id": "mdt2QpVpH4zz",
        "outputId": "44743c75-3572-4834-88b2-8bc06fbb3bae"
      },
      "source": [
        "from google.colab import drive\n",
        "drive.mount('/content/gdrive',force_remount=True)"
      ],
      "execution_count": 4,
      "outputs": [
        {
          "output_type": "stream",
          "name": "stdout",
          "text": [
            "Mounted at /content/gdrive\n"
          ]
        }
      ]
    },
    {
      "cell_type": "code",
      "metadata": {
        "id": "ZXh1nRJsIZqe"
      },
      "source": [
        "google_drive_dir = \"/content/gdrive/My Drive/gan_data/\"\n",
        "# !mkdir \"$google_drive_dir\""
      ],
      "execution_count": 5,
      "outputs": []
    },
    {
      "cell_type": "code",
      "source": [
        "training_data = pd.read_csv(google_drive_dir+'final_data_20231115.csv', sep='\\t')"
      ],
      "metadata": {
        "id": "PQBXlQkk08CV"
      },
      "execution_count": 6,
      "outputs": []
    },
    {
      "cell_type": "code",
      "source": [
        "training_data"
      ],
      "metadata": {
        "colab": {
          "base_uri": "https://localhost:8080/",
          "height": 635
        },
        "id": "BNSxZRyV1UWM",
        "outputId": "05337b42-2635-4dd2-b2d6-b9d84390c5d1"
      },
      "execution_count": 7,
      "outputs": [
        {
          "output_type": "execute_result",
          "data": {
            "text/plain": [
              "       Unnamed: 0                lat_lon  month  year      snom     csnow  \\\n",
              "0               0  (25.21298, -80.80556)      1  2022  0.000000  0.000000   \n",
              "1               1  (25.21298, -80.80556)      2  2022  0.000000  0.000000   \n",
              "2               2  (25.21298, -80.80556)      4  2022  0.000000  0.000000   \n",
              "3               3  (25.21298, -80.80556)      9  2022  0.000000  0.000000   \n",
              "4               4  (25.21298, -80.80556)     10  2022  0.000000  0.000000   \n",
              "...           ...                    ...    ...   ...       ...       ...   \n",
              "67296       67296  (72.95542, -84.72343)      6  2022  0.130371  0.183333   \n",
              "67297       67297  (73.02668, -79.89407)      6  2022  0.312533  0.241667   \n",
              "67298       67298  (73.83063, -120.6265)      6  2022  0.506478  0.133333   \n",
              "67299       67299  (74.13185, -119.8663)      6  2022  0.450293  0.145833   \n",
              "67300       67300   (74.68508, -94.7833)      7  2022  0.643051  0.000000   \n",
              "\n",
              "             air        vis      apcp      evap  ...  Bucephala albeola  \\\n",
              "0      293.15067  18463.783  1.783782  0.243646  ...                  0   \n",
              "1      295.28534  17220.467  1.062557  0.304188  ...                  0   \n",
              "2      298.49300  18676.670  1.928958  0.348559  ...                  0   \n",
              "3      302.05057  17731.424  7.805038  0.406399  ...                  0   \n",
              "4      299.10720  18337.787  2.369916  0.311079  ...                  0   \n",
              "...          ...        ...       ...       ...  ...                ...   \n",
              "67296  276.19928  16246.982  0.947968  0.213672  ...                  0   \n",
              "67297  273.96857  14880.315  1.077916  0.189339  ...                  0   \n",
              "67298  272.50894   9324.483  0.855000  0.018955  ...                  0   \n",
              "67299  272.75400  10686.983  0.921406  0.019043  ...                  0   \n",
              "67300  280.55570  17145.734  0.238819  0.117931  ...                  0   \n",
              "\n",
              "       Lophodytes cucullatus  Mareca strepera  Mareca americana  \\\n",
              "0                          0                1                 1   \n",
              "1                          0                0                 0   \n",
              "2                          0                0                 0   \n",
              "3                          0                0                 0   \n",
              "4                          0                0                 0   \n",
              "...                      ...              ...               ...   \n",
              "67296                      0                0                 0   \n",
              "67297                      0                0                 0   \n",
              "67298                      0                0                 0   \n",
              "67299                      0                0                 0   \n",
              "67300                      0                0                 0   \n",
              "\n",
              "       Aythya collaris  Cygnus olor  Mergus serrator  Spatula clypeata  \\\n",
              "0                    1            0                0                 1   \n",
              "1                    0            0                0                 0   \n",
              "2                    0            0                0                 0   \n",
              "3                    0            0                0                 0   \n",
              "4                    0            0                0                 0   \n",
              "...                ...          ...              ...               ...   \n",
              "67296                0            0                0                 0   \n",
              "67297                0            0                1                 0   \n",
              "67298                0            0                0                 0   \n",
              "67299                0            0                0                 0   \n",
              "67300                0            0                0                 0   \n",
              "\n",
              "       Mergus merganser  Spatula discors  \n",
              "0                     0                1  \n",
              "1                     0                1  \n",
              "2                     0                1  \n",
              "3                     0                1  \n",
              "4                     0                1  \n",
              "...                 ...              ...  \n",
              "67296                 0                0  \n",
              "67297                 0                0  \n",
              "67298                 0                0  \n",
              "67299                 0                0  \n",
              "67300                 0                0  \n",
              "\n",
              "[67301 rows x 45 columns]"
            ],
            "text/html": [
              "\n",
              "  <div id=\"df-1b19d53e-f44b-4f31-ae0c-d847d061e880\" class=\"colab-df-container\">\n",
              "    <div>\n",
              "<style scoped>\n",
              "    .dataframe tbody tr th:only-of-type {\n",
              "        vertical-align: middle;\n",
              "    }\n",
              "\n",
              "    .dataframe tbody tr th {\n",
              "        vertical-align: top;\n",
              "    }\n",
              "\n",
              "    .dataframe thead th {\n",
              "        text-align: right;\n",
              "    }\n",
              "</style>\n",
              "<table border=\"1\" class=\"dataframe\">\n",
              "  <thead>\n",
              "    <tr style=\"text-align: right;\">\n",
              "      <th></th>\n",
              "      <th>Unnamed: 0</th>\n",
              "      <th>lat_lon</th>\n",
              "      <th>month</th>\n",
              "      <th>year</th>\n",
              "      <th>snom</th>\n",
              "      <th>csnow</th>\n",
              "      <th>air</th>\n",
              "      <th>vis</th>\n",
              "      <th>apcp</th>\n",
              "      <th>evap</th>\n",
              "      <th>...</th>\n",
              "      <th>Bucephala albeola</th>\n",
              "      <th>Lophodytes cucullatus</th>\n",
              "      <th>Mareca strepera</th>\n",
              "      <th>Mareca americana</th>\n",
              "      <th>Aythya collaris</th>\n",
              "      <th>Cygnus olor</th>\n",
              "      <th>Mergus serrator</th>\n",
              "      <th>Spatula clypeata</th>\n",
              "      <th>Mergus merganser</th>\n",
              "      <th>Spatula discors</th>\n",
              "    </tr>\n",
              "  </thead>\n",
              "  <tbody>\n",
              "    <tr>\n",
              "      <th>0</th>\n",
              "      <td>0</td>\n",
              "      <td>(25.21298, -80.80556)</td>\n",
              "      <td>1</td>\n",
              "      <td>2022</td>\n",
              "      <td>0.000000</td>\n",
              "      <td>0.000000</td>\n",
              "      <td>293.15067</td>\n",
              "      <td>18463.783</td>\n",
              "      <td>1.783782</td>\n",
              "      <td>0.243646</td>\n",
              "      <td>...</td>\n",
              "      <td>0</td>\n",
              "      <td>0</td>\n",
              "      <td>1</td>\n",
              "      <td>1</td>\n",
              "      <td>1</td>\n",
              "      <td>0</td>\n",
              "      <td>0</td>\n",
              "      <td>1</td>\n",
              "      <td>0</td>\n",
              "      <td>1</td>\n",
              "    </tr>\n",
              "    <tr>\n",
              "      <th>1</th>\n",
              "      <td>1</td>\n",
              "      <td>(25.21298, -80.80556)</td>\n",
              "      <td>2</td>\n",
              "      <td>2022</td>\n",
              "      <td>0.000000</td>\n",
              "      <td>0.000000</td>\n",
              "      <td>295.28534</td>\n",
              "      <td>17220.467</td>\n",
              "      <td>1.062557</td>\n",
              "      <td>0.304188</td>\n",
              "      <td>...</td>\n",
              "      <td>0</td>\n",
              "      <td>0</td>\n",
              "      <td>0</td>\n",
              "      <td>0</td>\n",
              "      <td>0</td>\n",
              "      <td>0</td>\n",
              "      <td>0</td>\n",
              "      <td>0</td>\n",
              "      <td>0</td>\n",
              "      <td>1</td>\n",
              "    </tr>\n",
              "    <tr>\n",
              "      <th>2</th>\n",
              "      <td>2</td>\n",
              "      <td>(25.21298, -80.80556)</td>\n",
              "      <td>4</td>\n",
              "      <td>2022</td>\n",
              "      <td>0.000000</td>\n",
              "      <td>0.000000</td>\n",
              "      <td>298.49300</td>\n",
              "      <td>18676.670</td>\n",
              "      <td>1.928958</td>\n",
              "      <td>0.348559</td>\n",
              "      <td>...</td>\n",
              "      <td>0</td>\n",
              "      <td>0</td>\n",
              "      <td>0</td>\n",
              "      <td>0</td>\n",
              "      <td>0</td>\n",
              "      <td>0</td>\n",
              "      <td>0</td>\n",
              "      <td>0</td>\n",
              "      <td>0</td>\n",
              "      <td>1</td>\n",
              "    </tr>\n",
              "    <tr>\n",
              "      <th>3</th>\n",
              "      <td>3</td>\n",
              "      <td>(25.21298, -80.80556)</td>\n",
              "      <td>9</td>\n",
              "      <td>2022</td>\n",
              "      <td>0.000000</td>\n",
              "      <td>0.000000</td>\n",
              "      <td>302.05057</td>\n",
              "      <td>17731.424</td>\n",
              "      <td>7.805038</td>\n",
              "      <td>0.406399</td>\n",
              "      <td>...</td>\n",
              "      <td>0</td>\n",
              "      <td>0</td>\n",
              "      <td>0</td>\n",
              "      <td>0</td>\n",
              "      <td>0</td>\n",
              "      <td>0</td>\n",
              "      <td>0</td>\n",
              "      <td>0</td>\n",
              "      <td>0</td>\n",
              "      <td>1</td>\n",
              "    </tr>\n",
              "    <tr>\n",
              "      <th>4</th>\n",
              "      <td>4</td>\n",
              "      <td>(25.21298, -80.80556)</td>\n",
              "      <td>10</td>\n",
              "      <td>2022</td>\n",
              "      <td>0.000000</td>\n",
              "      <td>0.000000</td>\n",
              "      <td>299.10720</td>\n",
              "      <td>18337.787</td>\n",
              "      <td>2.369916</td>\n",
              "      <td>0.311079</td>\n",
              "      <td>...</td>\n",
              "      <td>0</td>\n",
              "      <td>0</td>\n",
              "      <td>0</td>\n",
              "      <td>0</td>\n",
              "      <td>0</td>\n",
              "      <td>0</td>\n",
              "      <td>0</td>\n",
              "      <td>0</td>\n",
              "      <td>0</td>\n",
              "      <td>1</td>\n",
              "    </tr>\n",
              "    <tr>\n",
              "      <th>...</th>\n",
              "      <td>...</td>\n",
              "      <td>...</td>\n",
              "      <td>...</td>\n",
              "      <td>...</td>\n",
              "      <td>...</td>\n",
              "      <td>...</td>\n",
              "      <td>...</td>\n",
              "      <td>...</td>\n",
              "      <td>...</td>\n",
              "      <td>...</td>\n",
              "      <td>...</td>\n",
              "      <td>...</td>\n",
              "      <td>...</td>\n",
              "      <td>...</td>\n",
              "      <td>...</td>\n",
              "      <td>...</td>\n",
              "      <td>...</td>\n",
              "      <td>...</td>\n",
              "      <td>...</td>\n",
              "      <td>...</td>\n",
              "      <td>...</td>\n",
              "    </tr>\n",
              "    <tr>\n",
              "      <th>67296</th>\n",
              "      <td>67296</td>\n",
              "      <td>(72.95542, -84.72343)</td>\n",
              "      <td>6</td>\n",
              "      <td>2022</td>\n",
              "      <td>0.130371</td>\n",
              "      <td>0.183333</td>\n",
              "      <td>276.19928</td>\n",
              "      <td>16246.982</td>\n",
              "      <td>0.947968</td>\n",
              "      <td>0.213672</td>\n",
              "      <td>...</td>\n",
              "      <td>0</td>\n",
              "      <td>0</td>\n",
              "      <td>0</td>\n",
              "      <td>0</td>\n",
              "      <td>0</td>\n",
              "      <td>0</td>\n",
              "      <td>0</td>\n",
              "      <td>0</td>\n",
              "      <td>0</td>\n",
              "      <td>0</td>\n",
              "    </tr>\n",
              "    <tr>\n",
              "      <th>67297</th>\n",
              "      <td>67297</td>\n",
              "      <td>(73.02668, -79.89407)</td>\n",
              "      <td>6</td>\n",
              "      <td>2022</td>\n",
              "      <td>0.312533</td>\n",
              "      <td>0.241667</td>\n",
              "      <td>273.96857</td>\n",
              "      <td>14880.315</td>\n",
              "      <td>1.077916</td>\n",
              "      <td>0.189339</td>\n",
              "      <td>...</td>\n",
              "      <td>0</td>\n",
              "      <td>0</td>\n",
              "      <td>0</td>\n",
              "      <td>0</td>\n",
              "      <td>0</td>\n",
              "      <td>0</td>\n",
              "      <td>1</td>\n",
              "      <td>0</td>\n",
              "      <td>0</td>\n",
              "      <td>0</td>\n",
              "    </tr>\n",
              "    <tr>\n",
              "      <th>67298</th>\n",
              "      <td>67298</td>\n",
              "      <td>(73.83063, -120.6265)</td>\n",
              "      <td>6</td>\n",
              "      <td>2022</td>\n",
              "      <td>0.506478</td>\n",
              "      <td>0.133333</td>\n",
              "      <td>272.50894</td>\n",
              "      <td>9324.483</td>\n",
              "      <td>0.855000</td>\n",
              "      <td>0.018955</td>\n",
              "      <td>...</td>\n",
              "      <td>0</td>\n",
              "      <td>0</td>\n",
              "      <td>0</td>\n",
              "      <td>0</td>\n",
              "      <td>0</td>\n",
              "      <td>0</td>\n",
              "      <td>0</td>\n",
              "      <td>0</td>\n",
              "      <td>0</td>\n",
              "      <td>0</td>\n",
              "    </tr>\n",
              "    <tr>\n",
              "      <th>67299</th>\n",
              "      <td>67299</td>\n",
              "      <td>(74.13185, -119.8663)</td>\n",
              "      <td>6</td>\n",
              "      <td>2022</td>\n",
              "      <td>0.450293</td>\n",
              "      <td>0.145833</td>\n",
              "      <td>272.75400</td>\n",
              "      <td>10686.983</td>\n",
              "      <td>0.921406</td>\n",
              "      <td>0.019043</td>\n",
              "      <td>...</td>\n",
              "      <td>0</td>\n",
              "      <td>0</td>\n",
              "      <td>0</td>\n",
              "      <td>0</td>\n",
              "      <td>0</td>\n",
              "      <td>0</td>\n",
              "      <td>0</td>\n",
              "      <td>0</td>\n",
              "      <td>0</td>\n",
              "      <td>0</td>\n",
              "    </tr>\n",
              "    <tr>\n",
              "      <th>67300</th>\n",
              "      <td>67300</td>\n",
              "      <td>(74.68508, -94.7833)</td>\n",
              "      <td>7</td>\n",
              "      <td>2022</td>\n",
              "      <td>0.643051</td>\n",
              "      <td>0.000000</td>\n",
              "      <td>280.55570</td>\n",
              "      <td>17145.734</td>\n",
              "      <td>0.238819</td>\n",
              "      <td>0.117931</td>\n",
              "      <td>...</td>\n",
              "      <td>0</td>\n",
              "      <td>0</td>\n",
              "      <td>0</td>\n",
              "      <td>0</td>\n",
              "      <td>0</td>\n",
              "      <td>0</td>\n",
              "      <td>0</td>\n",
              "      <td>0</td>\n",
              "      <td>0</td>\n",
              "      <td>0</td>\n",
              "    </tr>\n",
              "  </tbody>\n",
              "</table>\n",
              "<p>67301 rows × 45 columns</p>\n",
              "</div>\n",
              "    <div class=\"colab-df-buttons\">\n",
              "\n",
              "  <div class=\"colab-df-container\">\n",
              "    <button class=\"colab-df-convert\" onclick=\"convertToInteractive('df-1b19d53e-f44b-4f31-ae0c-d847d061e880')\"\n",
              "            title=\"Convert this dataframe to an interactive table.\"\n",
              "            style=\"display:none;\">\n",
              "\n",
              "  <svg xmlns=\"http://www.w3.org/2000/svg\" height=\"24px\" viewBox=\"0 -960 960 960\">\n",
              "    <path d=\"M120-120v-720h720v720H120Zm60-500h600v-160H180v160Zm220 220h160v-160H400v160Zm0 220h160v-160H400v160ZM180-400h160v-160H180v160Zm440 0h160v-160H620v160ZM180-180h160v-160H180v160Zm440 0h160v-160H620v160Z\"/>\n",
              "  </svg>\n",
              "    </button>\n",
              "\n",
              "  <style>\n",
              "    .colab-df-container {\n",
              "      display:flex;\n",
              "      gap: 12px;\n",
              "    }\n",
              "\n",
              "    .colab-df-convert {\n",
              "      background-color: #E8F0FE;\n",
              "      border: none;\n",
              "      border-radius: 50%;\n",
              "      cursor: pointer;\n",
              "      display: none;\n",
              "      fill: #1967D2;\n",
              "      height: 32px;\n",
              "      padding: 0 0 0 0;\n",
              "      width: 32px;\n",
              "    }\n",
              "\n",
              "    .colab-df-convert:hover {\n",
              "      background-color: #E2EBFA;\n",
              "      box-shadow: 0px 1px 2px rgba(60, 64, 67, 0.3), 0px 1px 3px 1px rgba(60, 64, 67, 0.15);\n",
              "      fill: #174EA6;\n",
              "    }\n",
              "\n",
              "    .colab-df-buttons div {\n",
              "      margin-bottom: 4px;\n",
              "    }\n",
              "\n",
              "    [theme=dark] .colab-df-convert {\n",
              "      background-color: #3B4455;\n",
              "      fill: #D2E3FC;\n",
              "    }\n",
              "\n",
              "    [theme=dark] .colab-df-convert:hover {\n",
              "      background-color: #434B5C;\n",
              "      box-shadow: 0px 1px 3px 1px rgba(0, 0, 0, 0.15);\n",
              "      filter: drop-shadow(0px 1px 2px rgba(0, 0, 0, 0.3));\n",
              "      fill: #FFFFFF;\n",
              "    }\n",
              "  </style>\n",
              "\n",
              "    <script>\n",
              "      const buttonEl =\n",
              "        document.querySelector('#df-1b19d53e-f44b-4f31-ae0c-d847d061e880 button.colab-df-convert');\n",
              "      buttonEl.style.display =\n",
              "        google.colab.kernel.accessAllowed ? 'block' : 'none';\n",
              "\n",
              "      async function convertToInteractive(key) {\n",
              "        const element = document.querySelector('#df-1b19d53e-f44b-4f31-ae0c-d847d061e880');\n",
              "        const dataTable =\n",
              "          await google.colab.kernel.invokeFunction('convertToInteractive',\n",
              "                                                    [key], {});\n",
              "        if (!dataTable) return;\n",
              "\n",
              "        const docLinkHtml = 'Like what you see? Visit the ' +\n",
              "          '<a target=\"_blank\" href=https://colab.research.google.com/notebooks/data_table.ipynb>data table notebook</a>'\n",
              "          + ' to learn more about interactive tables.';\n",
              "        element.innerHTML = '';\n",
              "        dataTable['output_type'] = 'display_data';\n",
              "        await google.colab.output.renderOutput(dataTable, element);\n",
              "        const docLink = document.createElement('div');\n",
              "        docLink.innerHTML = docLinkHtml;\n",
              "        element.appendChild(docLink);\n",
              "      }\n",
              "    </script>\n",
              "  </div>\n",
              "\n",
              "\n",
              "<div id=\"df-7d77a403-daeb-4cb9-a1ec-98ce483b23b6\">\n",
              "  <button class=\"colab-df-quickchart\" onclick=\"quickchart('df-7d77a403-daeb-4cb9-a1ec-98ce483b23b6')\"\n",
              "            title=\"Suggest charts\"\n",
              "            style=\"display:none;\">\n",
              "\n",
              "<svg xmlns=\"http://www.w3.org/2000/svg\" height=\"24px\"viewBox=\"0 0 24 24\"\n",
              "     width=\"24px\">\n",
              "    <g>\n",
              "        <path d=\"M19 3H5c-1.1 0-2 .9-2 2v14c0 1.1.9 2 2 2h14c1.1 0 2-.9 2-2V5c0-1.1-.9-2-2-2zM9 17H7v-7h2v7zm4 0h-2V7h2v10zm4 0h-2v-4h2v4z\"/>\n",
              "    </g>\n",
              "</svg>\n",
              "  </button>\n",
              "\n",
              "<style>\n",
              "  .colab-df-quickchart {\n",
              "      --bg-color: #E8F0FE;\n",
              "      --fill-color: #1967D2;\n",
              "      --hover-bg-color: #E2EBFA;\n",
              "      --hover-fill-color: #174EA6;\n",
              "      --disabled-fill-color: #AAA;\n",
              "      --disabled-bg-color: #DDD;\n",
              "  }\n",
              "\n",
              "  [theme=dark] .colab-df-quickchart {\n",
              "      --bg-color: #3B4455;\n",
              "      --fill-color: #D2E3FC;\n",
              "      --hover-bg-color: #434B5C;\n",
              "      --hover-fill-color: #FFFFFF;\n",
              "      --disabled-bg-color: #3B4455;\n",
              "      --disabled-fill-color: #666;\n",
              "  }\n",
              "\n",
              "  .colab-df-quickchart {\n",
              "    background-color: var(--bg-color);\n",
              "    border: none;\n",
              "    border-radius: 50%;\n",
              "    cursor: pointer;\n",
              "    display: none;\n",
              "    fill: var(--fill-color);\n",
              "    height: 32px;\n",
              "    padding: 0;\n",
              "    width: 32px;\n",
              "  }\n",
              "\n",
              "  .colab-df-quickchart:hover {\n",
              "    background-color: var(--hover-bg-color);\n",
              "    box-shadow: 0 1px 2px rgba(60, 64, 67, 0.3), 0 1px 3px 1px rgba(60, 64, 67, 0.15);\n",
              "    fill: var(--button-hover-fill-color);\n",
              "  }\n",
              "\n",
              "  .colab-df-quickchart-complete:disabled,\n",
              "  .colab-df-quickchart-complete:disabled:hover {\n",
              "    background-color: var(--disabled-bg-color);\n",
              "    fill: var(--disabled-fill-color);\n",
              "    box-shadow: none;\n",
              "  }\n",
              "\n",
              "  .colab-df-spinner {\n",
              "    border: 2px solid var(--fill-color);\n",
              "    border-color: transparent;\n",
              "    border-bottom-color: var(--fill-color);\n",
              "    animation:\n",
              "      spin 1s steps(1) infinite;\n",
              "  }\n",
              "\n",
              "  @keyframes spin {\n",
              "    0% {\n",
              "      border-color: transparent;\n",
              "      border-bottom-color: var(--fill-color);\n",
              "      border-left-color: var(--fill-color);\n",
              "    }\n",
              "    20% {\n",
              "      border-color: transparent;\n",
              "      border-left-color: var(--fill-color);\n",
              "      border-top-color: var(--fill-color);\n",
              "    }\n",
              "    30% {\n",
              "      border-color: transparent;\n",
              "      border-left-color: var(--fill-color);\n",
              "      border-top-color: var(--fill-color);\n",
              "      border-right-color: var(--fill-color);\n",
              "    }\n",
              "    40% {\n",
              "      border-color: transparent;\n",
              "      border-right-color: var(--fill-color);\n",
              "      border-top-color: var(--fill-color);\n",
              "    }\n",
              "    60% {\n",
              "      border-color: transparent;\n",
              "      border-right-color: var(--fill-color);\n",
              "    }\n",
              "    80% {\n",
              "      border-color: transparent;\n",
              "      border-right-color: var(--fill-color);\n",
              "      border-bottom-color: var(--fill-color);\n",
              "    }\n",
              "    90% {\n",
              "      border-color: transparent;\n",
              "      border-bottom-color: var(--fill-color);\n",
              "    }\n",
              "  }\n",
              "</style>\n",
              "\n",
              "  <script>\n",
              "    async function quickchart(key) {\n",
              "      const quickchartButtonEl =\n",
              "        document.querySelector('#' + key + ' button');\n",
              "      quickchartButtonEl.disabled = true;  // To prevent multiple clicks.\n",
              "      quickchartButtonEl.classList.add('colab-df-spinner');\n",
              "      try {\n",
              "        const charts = await google.colab.kernel.invokeFunction(\n",
              "            'suggestCharts', [key], {});\n",
              "      } catch (error) {\n",
              "        console.error('Error during call to suggestCharts:', error);\n",
              "      }\n",
              "      quickchartButtonEl.classList.remove('colab-df-spinner');\n",
              "      quickchartButtonEl.classList.add('colab-df-quickchart-complete');\n",
              "    }\n",
              "    (() => {\n",
              "      let quickchartButtonEl =\n",
              "        document.querySelector('#df-7d77a403-daeb-4cb9-a1ec-98ce483b23b6 button');\n",
              "      quickchartButtonEl.style.display =\n",
              "        google.colab.kernel.accessAllowed ? 'block' : 'none';\n",
              "    })();\n",
              "  </script>\n",
              "</div>\n",
              "    </div>\n",
              "  </div>\n"
            ]
          },
          "metadata": {},
          "execution_count": 7
        }
      ]
    },
    {
      "cell_type": "code",
      "source": [
        "species_picked = ['Branta canadensis',\n",
        "                  'Anas platyrhynchos',\n",
        "                  'Anas crecca',\n",
        "                  'Anas rubripes',\n",
        "                  'Bucephala clangula',\n",
        "                  'Aix sponsa',\n",
        "                  'Bucephala albeola',\n",
        "                  'Lophodytes cucullatus',\n",
        "                  'Mareca strepera',\n",
        "                  'Mareca americana',\n",
        "                  'Aythya collaris',\n",
        "                  'Cygnus olor',\n",
        "                  'Mergus serrator',\n",
        "                  'Spatula clypeata',\n",
        "                  'Mergus merganser',\n",
        "                  'Spatula discors',\n",
        "                 ]\n",
        "# conditional_features = [\n",
        "#     'snom', 'csnow', 'air', 'vis', 'apcp', 'evap',\n",
        "#        'crain', 'uwnd', 'vwnd', 'weasd', 'ccond', 'mstav', 'wspd', 'cicep',\n",
        "#        'prate', 'lftx4', 'rhum', 'snowc', 'tcdc', 'albedo', 'veg', 'snod',\n",
        "#        'hlcy', 'cfrzr'\n",
        "# ]\n",
        "conditional_features = [\n",
        "'prate', 'lftx4', 'rhum', 'snowc', 'tcdc', 'albedo', 'veg', 'snod',\n",
        "        'hlcy', 'cfrzr'\n",
        "]\n",
        "num_conditional_features = len(conditional_features) # environmental variables\n"
      ],
      "metadata": {
        "id": "UNLtOxVhzjLv"
      },
      "execution_count": 41,
      "outputs": []
    },
    {
      "cell_type": "code",
      "source": [
        "from sklearn.model_selection import train_test_split\n",
        "X_train, X_test = train_test_split(training_data, test_size=hold_out_frac, random_state=42)"
      ],
      "metadata": {
        "id": "1iNwy73bzsjV"
      },
      "execution_count": 42,
      "outputs": []
    },
    {
      "cell_type": "code",
      "source": [
        "species = X_train[species_picked].values\n",
        "# construct 2d image using species prestentation data\n",
        "# dimension for each patch is [16,16]\n",
        "n_tile = 16\n",
        "species_2D = np.asarray([np.transpose(np.tile(item, (n_tile,1))) for item in species])\n",
        "# species_2D = np.tile(species, (1,1,n_tile))\n",
        "# plot data\n"
      ],
      "metadata": {
        "id": "Lz2SgnZY0AYL"
      },
      "execution_count": 43,
      "outputs": []
    },
    {
      "cell_type": "code",
      "source": [
        "from time import time\n",
        "\n",
        "import os\n",
        "import glob\n",
        "import shutil\n",
        "from PIL import Image\n"
      ],
      "metadata": {
        "id": "e1_Fgju-8CCS"
      },
      "execution_count": 44,
      "outputs": []
    },
    {
      "cell_type": "code",
      "source": [
        "# # save image\n",
        "# dir_name = google_drive_dir+'images_for_GAN_training/'\n",
        "# try:\n",
        "#     shutil.rmtree(dir_name)\n",
        "# except OSError as e:\n",
        "#   pass\n",
        "\n",
        "# print(f'Creating directories ...')\n",
        "# os.mkdir(dir_name)\n",
        "\n",
        "# dir_name=os.path.join(dir_name,'real_patches/')\n",
        "# IMAGE_PATH= dir_name\n",
        "\n",
        "# if not os.path.exists(dir_name):\n",
        "#       os.mkdir(dir_name)\n",
        "\n",
        "# n_patches = species_2D.shape[0]\n",
        "\n",
        "# print(f'... saving Images ...')\n",
        "# for j in range(n_patches):\n",
        "#     array = species_2D[j,:,:]\n",
        "#     array = (array * 255).astype(np.uint8)\n",
        "\n",
        "#     Image.fromarray(array).convert('L').save(os.path.join(dir_name,str(j)+'.png'))\n",
        "\n",
        "# print('... a total of {} images saved at directory {}'.format(n_patches,dir_name))"
      ],
      "metadata": {
        "id": "TISeG7nI3YY_"
      },
      "execution_count": 45,
      "outputs": []
    },
    {
      "cell_type": "code",
      "source": [
        "# from PIL import Image\n",
        "# from matplotlib import pyplot as plt\n",
        "# import random\n",
        "# fig, ax = plt.subplots(1, 6, figsize=(25,100))\n",
        "\n",
        "# for x in range(0,6) :\n",
        "#   im = Image.open(os.path.join(dir_name,str(random.randint(0,species_2D.shape[0]))+'.png'))\n",
        "#   ax[x].imshow(im)\n",
        "\n",
        "# plt.show()\n",
        "# plt.tight_layout()"
      ],
      "metadata": {
        "id": "izIfBC4E3EBU"
      },
      "execution_count": 46,
      "outputs": []
    },
    {
      "cell_type": "code",
      "source": [
        "conditional_input = X_train[conditional_features].values\n",
        "mean = conditional_input.mean(axis=0)\n",
        "std = conditional_input.std(axis=0)\n",
        "conditional_input_std = (conditional_input - mean) / std\n",
        "\n",
        "conditional_input_std = np.float32(conditional_input_std)\n",
        "# normalize conditional input\n"
      ],
      "metadata": {
        "id": "vjGLp8xWbvX1"
      },
      "execution_count": 47,
      "outputs": []
    },
    {
      "cell_type": "code",
      "source": [
        "conditional_input_std"
      ],
      "metadata": {
        "colab": {
          "base_uri": "https://localhost:8080/"
        },
        "id": "mTPRwcfDdXyL",
        "outputId": "45e982a6-e608-4fb4-ab24-f6cd201a649d"
      },
      "execution_count": 49,
      "outputs": [
        {
          "output_type": "execute_result",
          "data": {
            "text/plain": [
              "array([[-0.46910113,  0.10261691, -0.90324706, ..., -0.2446004 ,\n",
              "        -0.29286382, -0.25522688],\n",
              "       [ 4.0897665 , -0.26095766,  1.393767  , ..., -0.23752011,\n",
              "        -0.44377932, -0.25522688],\n",
              "       [-1.0750395 , -0.8574995 , -1.340351  , ..., -0.2446004 ,\n",
              "        -0.9194975 , -0.25522688],\n",
              "       ...,\n",
              "       [-0.8688636 , -0.13979453, -0.0354595 , ...,  0.02223363,\n",
              "         0.42591736, -0.25522688],\n",
              "       [ 4.9617157 , -1.7911695 ,  0.8956647 , ..., -0.2446004 ,\n",
              "        -1.5153422 , -0.25522688],\n",
              "       [-0.5660201 ,  0.4773921 ,  0.21861863, ..., -0.24459659,\n",
              "        -0.5324463 , -0.25522688]], dtype=float32)"
            ]
          },
          "metadata": {},
          "execution_count": 49
        }
      ]
    },
    {
      "cell_type": "code",
      "source": [
        "# conditional_input = np.float32(X_train[conditional_features].values)\n",
        "species_reshape = np.reshape(species_2D, (-1, 16, 16, 1))\n",
        "dataset = tf.data.Dataset.from_tensor_slices((species_reshape, conditional_input_std))\n",
        "dataset = dataset.shuffle(buffer_size=1024).batch(batch_size)"
      ],
      "metadata": {
        "id": "zA-o_FOv2cp-"
      },
      "execution_count": 48,
      "outputs": []
    },
    {
      "cell_type": "code",
      "execution_count": 16,
      "metadata": {
        "id": "Mr4HYU4K0bqu"
      },
      "outputs": [],
      "source": [
        "# # We'll use all the available examples from both the training and test\n",
        "# # sets.\n",
        "# (x_train, y_train), (x_test, y_test) = keras.datasets.mnist.load_data()\n",
        "# all_digits = np.concatenate([x_train, x_test])\n",
        "# all_labels = np.concatenate([y_train, y_test])\n",
        "\n",
        "# # Scale the pixel values to [0, 1] range, add a channel dimension to\n",
        "# # the images, and one-hot encode the labels.\n",
        "# all_digits = all_digits.astype(\"float32\") / 255.0\n",
        "# all_digits = np.reshape(all_digits, (-1, 28, 28, 1))\n",
        "# all_labels = keras.utils.to_categorical(all_labels, 10)\n",
        "\n",
        "# # Create tf.data.Dataset.\n",
        "# dataset = tf.data.Dataset.from_tensor_slices((all_digits, all_labels))\n",
        "# dataset = dataset.shuffle(buffer_size=1024).batch(batch_size)\n",
        "\n",
        "# print(f\"Shape of training images: {all_digits.shape}\")\n",
        "# print(f\"Shape of training labels: {all_labels.shape}\")"
      ]
    },
    {
      "cell_type": "markdown",
      "metadata": {
        "id": "uzIa5SGp0bqv"
      },
      "source": [
        "## Calculating the number of input channel for the generator and discriminator\n",
        "\n",
        "In a regular (unconditional) GAN, we start by sampling noise (of some fixed\n",
        "dimension) from a normal distribution. In our case, we also need to account\n",
        "for the class labels. We will have to add the number of classes to\n",
        "the input channels of the generator (noise input) as well as the discriminator\n",
        "(generated image input)."
      ]
    },
    {
      "cell_type": "code",
      "execution_count": 50,
      "metadata": {
        "id": "OIqbCR9W0bqv",
        "colab": {
          "base_uri": "https://localhost:8080/"
        },
        "outputId": "e547a38f-91dd-4bec-a7ed-adfeefec5a10"
      },
      "outputs": [
        {
          "output_type": "stream",
          "name": "stdout",
          "text": [
            "138 11\n"
          ]
        }
      ],
      "source": [
        "generator_in_channels = latent_dim + num_conditional_features\n",
        "discriminator_in_channels = num_channels + num_conditional_features\n",
        "print(generator_in_channels, discriminator_in_channels)"
      ]
    },
    {
      "cell_type": "markdown",
      "metadata": {
        "id": "3SbML8_b0bqv"
      },
      "source": [
        "## Creating the discriminator and generator\n",
        "\n",
        "The model definitions (`discriminator`, `generator`, and `ConditionalGAN`) have been\n",
        "adapted from [this example](https://keras.io/guides/customizing_what_happens_in_fit/)."
      ]
    },
    {
      "cell_type": "code",
      "execution_count": 51,
      "metadata": {
        "id": "f_Xi2q6T0bqv"
      },
      "outputs": [],
      "source": [
        "# Create the discriminator.\n",
        "discriminator = keras.Sequential(\n",
        "    [\n",
        "        keras.layers.InputLayer((16, 16, discriminator_in_channels)),\n",
        "        layers.Conv2D(64, (3, 3), strides=(2, 2), padding=\"same\"),\n",
        "        layers.LeakyReLU(alpha=0.2),\n",
        "        layers.Conv2D(128, (3, 3), strides=(2, 2), padding=\"same\"),\n",
        "        layers.LeakyReLU(alpha=0.2),\n",
        "        layers.GlobalMaxPooling2D(),\n",
        "        layers.Dense(1),\n",
        "    ],\n",
        "    name=\"discriminator\",\n",
        ")\n",
        "\n",
        "# Create the generator.\n",
        "generator = keras.Sequential(\n",
        "    [\n",
        "        keras.layers.InputLayer((generator_in_channels,)),\n",
        "        # We want to generate latent_dim + num_classes coefficients to reshape into a\n",
        "        # 7x7x(latent_dim + num_classes) map.\n",
        "        layers.Dense(4 * 4 * generator_in_channels),\n",
        "        layers.LeakyReLU(alpha=0.2),\n",
        "        layers.Reshape((4, 4, generator_in_channels)),\n",
        "        layers.Conv2DTranspose(128, (4, 4), strides=(2, 2), padding=\"same\"),\n",
        "        layers.LeakyReLU(alpha=0.2),\n",
        "        layers.Conv2DTranspose(128, (4, 4), strides=(2, 2), padding=\"same\"),\n",
        "        layers.LeakyReLU(alpha=0.2),\n",
        "        layers.Conv2D(1, (4, 4), padding=\"same\", activation=\"sigmoid\"),\n",
        "    ],\n",
        "    name=\"generator\",\n",
        ")"
      ]
    },
    {
      "cell_type": "markdown",
      "metadata": {
        "id": "PboDZt4r0bqw"
      },
      "source": [
        "## Creating a `ConditionalGAN` model"
      ]
    },
    {
      "cell_type": "code",
      "execution_count": 52,
      "metadata": {
        "id": "mvSctdCd0bqw"
      },
      "outputs": [],
      "source": [
        "\n",
        "class ConditionalGAN(keras.Model):\n",
        "    def __init__(self, discriminator, generator, latent_dim):\n",
        "        super().__init__()\n",
        "        self.discriminator = discriminator\n",
        "        self.generator = generator\n",
        "        self.latent_dim = latent_dim\n",
        "        self.gen_loss_tracker = keras.metrics.Mean(name=\"generator_loss\")\n",
        "        self.disc_loss_tracker = keras.metrics.Mean(name=\"discriminator_loss\")\n",
        "\n",
        "    @property\n",
        "    def metrics(self):\n",
        "        return [self.gen_loss_tracker, self.disc_loss_tracker]\n",
        "\n",
        "    def compile(self, d_optimizer, g_optimizer, loss_fn):\n",
        "        super().compile()\n",
        "        self.d_optimizer = d_optimizer\n",
        "        self.g_optimizer = g_optimizer\n",
        "        self.loss_fn = loss_fn\n",
        "\n",
        "    def train_step(self, data):\n",
        "        # Unpack the data.\n",
        "        real_images, one_hot_labels = data\n",
        "\n",
        "        # Add dummy dimensions to the labels so that they can be concatenated with\n",
        "        # the images. This is for the discriminator.\n",
        "        image_one_hot_labels = one_hot_labels[:, :, None, None]\n",
        "        image_one_hot_labels = tf.repeat(\n",
        "            image_one_hot_labels, repeats=[image_size * image_size]\n",
        "        )\n",
        "        image_one_hot_labels = tf.reshape(\n",
        "            image_one_hot_labels, (-1, image_size, image_size, num_conditional_features)\n",
        "        )\n",
        "\n",
        "        # Sample random points in the latent space and concatenate the labels.\n",
        "        # This is for the generator.\n",
        "        batch_size = tf.shape(real_images)[0]\n",
        "        random_latent_vectors = tf.random.normal(shape=(batch_size, self.latent_dim))\n",
        "        random_vector_labels = tf.concat(\n",
        "            [random_latent_vectors, one_hot_labels], axis=1\n",
        "        )\n",
        "\n",
        "        # Decode the noise (guided by labels) to fake images.\n",
        "        generated_images = self.generator(random_vector_labels)\n",
        "\n",
        "        # print(generated_images.get_shape())\n",
        "        # print(image_one_hot_labels.get_shape())\n",
        "        # print(real_images.get_shape())\n",
        "        real_images = tf.cast(real_images, tf.float32)\n",
        "        # Combine them with real images. Note that we are concatenating the labels\n",
        "        # with these images here.\n",
        "        fake_image_and_labels = tf.concat([generated_images, image_one_hot_labels], -1)\n",
        "        real_image_and_labels = tf.concat([real_images, image_one_hot_labels], -1)\n",
        "        combined_images = tf.concat(\n",
        "            [fake_image_and_labels, real_image_and_labels], axis=0\n",
        "        )\n",
        "\n",
        "        # Assemble labels discriminating real from fake images.\n",
        "        labels = tf.concat(\n",
        "            [tf.ones((batch_size, 1)), tf.zeros((batch_size, 1))], axis=0\n",
        "        )\n",
        "\n",
        "        # Train the discriminator.\n",
        "        with tf.GradientTape() as tape:\n",
        "            predictions = self.discriminator(combined_images)\n",
        "            d_loss = self.loss_fn(labels, predictions)\n",
        "        grads = tape.gradient(d_loss, self.discriminator.trainable_weights)\n",
        "        self.d_optimizer.apply_gradients(\n",
        "            zip(grads, self.discriminator.trainable_weights)\n",
        "        )\n",
        "\n",
        "        # Sample random points in the latent space.\n",
        "        random_latent_vectors = tf.random.normal(shape=(batch_size, self.latent_dim))\n",
        "        random_vector_labels = tf.concat(\n",
        "            [random_latent_vectors, one_hot_labels], axis=1\n",
        "        )\n",
        "\n",
        "        # Assemble labels that say \"all real images\".\n",
        "        misleading_labels = tf.zeros((batch_size, 1))\n",
        "\n",
        "        # Train the generator (note that we should *not* update the weights\n",
        "        # of the discriminator)!\n",
        "        with tf.GradientTape() as tape:\n",
        "            fake_images = self.generator(random_vector_labels)\n",
        "            fake_image_and_labels = tf.concat([fake_images, image_one_hot_labels], -1)\n",
        "            predictions = self.discriminator(fake_image_and_labels)\n",
        "            g_loss = self.loss_fn(misleading_labels, predictions)\n",
        "        grads = tape.gradient(g_loss, self.generator.trainable_weights)\n",
        "        self.g_optimizer.apply_gradients(zip(grads, self.generator.trainable_weights))\n",
        "\n",
        "        # Monitor loss.\n",
        "        self.gen_loss_tracker.update_state(g_loss)\n",
        "        self.disc_loss_tracker.update_state(d_loss)\n",
        "        return {\n",
        "            \"g_loss\": self.gen_loss_tracker.result(),\n",
        "            \"d_loss\": self.disc_loss_tracker.result(),\n",
        "        }\n"
      ]
    },
    {
      "cell_type": "markdown",
      "metadata": {
        "id": "j6AF1ajL0bqw"
      },
      "source": [
        "## Training the Conditional GAN"
      ]
    },
    {
      "cell_type": "code",
      "execution_count": 53,
      "metadata": {
        "id": "3EK6pO3B0bqw",
        "colab": {
          "base_uri": "https://localhost:8080/"
        },
        "outputId": "6e9ea68d-c1c4-4c77-c36a-a0d3f7c1422e"
      },
      "outputs": [
        {
          "output_type": "stream",
          "name": "stdout",
          "text": [
            "Model: \"generator\"\n",
            "_________________________________________________________________\n",
            " Layer (type)                Output Shape              Param #   \n",
            "=================================================================\n",
            " dense_3 (Dense)             (None, 2208)              306912    \n",
            "                                                                 \n",
            " leaky_re_lu_7 (LeakyReLU)   (None, 2208)              0         \n",
            "                                                                 \n",
            " reshape_1 (Reshape)         (None, 4, 4, 138)         0         \n",
            "                                                                 \n",
            " conv2d_transpose_2 (Conv2D  (None, 8, 8, 128)         282752    \n",
            " Transpose)                                                      \n",
            "                                                                 \n",
            " leaky_re_lu_8 (LeakyReLU)   (None, 8, 8, 128)         0         \n",
            "                                                                 \n",
            " conv2d_transpose_3 (Conv2D  (None, 16, 16, 128)       262272    \n",
            " Transpose)                                                      \n",
            "                                                                 \n",
            " leaky_re_lu_9 (LeakyReLU)   (None, 16, 16, 128)       0         \n",
            "                                                                 \n",
            " conv2d_5 (Conv2D)           (None, 16, 16, 1)         2049      \n",
            "                                                                 \n",
            "=================================================================\n",
            "Total params: 853985 (3.26 MB)\n",
            "Trainable params: 853985 (3.26 MB)\n",
            "Non-trainable params: 0 (0.00 Byte)\n",
            "_________________________________________________________________\n",
            "None\n",
            "Epoch 1/20\n",
            "947/947 [==============================] - 16s 13ms/step - g_loss: 1.1215 - d_loss: 0.5717\n",
            "Epoch 2/20\n",
            "947/947 [==============================] - 16s 17ms/step - g_loss: 1.2089 - d_loss: 0.5230\n",
            "Epoch 3/20\n",
            "947/947 [==============================] - 12s 13ms/step - g_loss: 1.1064 - d_loss: 0.5461\n",
            "Epoch 4/20\n",
            "947/947 [==============================] - 12s 13ms/step - g_loss: 1.0290 - d_loss: 0.5602\n",
            "Epoch 5/20\n",
            "947/947 [==============================] - 12s 13ms/step - g_loss: 1.1349 - d_loss: 0.5376\n",
            "Epoch 6/20\n",
            "947/947 [==============================] - 12s 13ms/step - g_loss: 1.2322 - d_loss: 0.5213\n",
            "Epoch 7/20\n",
            "947/947 [==============================] - 12s 13ms/step - g_loss: 1.3096 - d_loss: 0.5080\n",
            "Epoch 8/20\n",
            "947/947 [==============================] - 12s 13ms/step - g_loss: 1.4038 - d_loss: 0.4961\n",
            "Epoch 9/20\n",
            "947/947 [==============================] - 13s 13ms/step - g_loss: 1.4742 - d_loss: 0.4861\n",
            "Epoch 10/20\n",
            "947/947 [==============================] - 12s 13ms/step - g_loss: 1.5838 - d_loss: 0.4651\n",
            "Epoch 11/20\n",
            "947/947 [==============================] - 12s 13ms/step - g_loss: 1.7001 - d_loss: 0.4488\n",
            "Epoch 12/20\n",
            "947/947 [==============================] - 12s 13ms/step - g_loss: 1.7919 - d_loss: 0.4617\n",
            "Epoch 13/20\n",
            "947/947 [==============================] - 12s 13ms/step - g_loss: 1.8859 - d_loss: 0.4516\n",
            "Epoch 14/20\n",
            "947/947 [==============================] - 13s 13ms/step - g_loss: 1.9845 - d_loss: 0.4397\n",
            "Epoch 15/20\n",
            "947/947 [==============================] - 12s 13ms/step - g_loss: 2.0524 - d_loss: 0.4365\n",
            "Epoch 16/20\n",
            "947/947 [==============================] - 12s 13ms/step - g_loss: 2.0600 - d_loss: 0.4354\n",
            "Epoch 17/20\n",
            "947/947 [==============================] - 13s 14ms/step - g_loss: 2.1762 - d_loss: 0.4242\n",
            "Epoch 18/20\n",
            "947/947 [==============================] - 12s 13ms/step - g_loss: 2.2424 - d_loss: 0.4222\n",
            "Epoch 19/20\n",
            "947/947 [==============================] - 12s 13ms/step - g_loss: 2.3884 - d_loss: 0.3893\n",
            "Epoch 20/20\n",
            "947/947 [==============================] - 12s 13ms/step - g_loss: 2.3825 - d_loss: 0.4097\n"
          ]
        },
        {
          "output_type": "execute_result",
          "data": {
            "text/plain": [
              "<keras.src.callbacks.History at 0x7ea968de1ba0>"
            ]
          },
          "metadata": {},
          "execution_count": 53
        }
      ],
      "source": [
        "cond_gan = ConditionalGAN(\n",
        "    discriminator=discriminator, generator=generator, latent_dim=latent_dim\n",
        ")\n",
        "cond_gan.compile(\n",
        "    d_optimizer=keras.optimizers.Adam(learning_rate=0.0003),\n",
        "    g_optimizer=keras.optimizers.Adam(learning_rate=0.0003),\n",
        "    loss_fn=keras.losses.BinaryCrossentropy(from_logits=True),\n",
        ")\n",
        "print(cond_gan.generator.summary())\n",
        "\n",
        "cond_gan.fit(dataset, epochs=20)"
      ]
    },
    {
      "cell_type": "code",
      "source": [
        "google_drive_dir"
      ],
      "metadata": {
        "colab": {
          "base_uri": "https://localhost:8080/",
          "height": 35
        },
        "id": "u5VX4JzLPxBK",
        "outputId": "ed8eb246-6e88-461f-e52b-768262f02fc4"
      },
      "execution_count": 54,
      "outputs": [
        {
          "output_type": "execute_result",
          "data": {
            "text/plain": [
              "'/content/gdrive/My Drive/gan_data/'"
            ],
            "application/vnd.google.colaboratory.intrinsic+json": {
              "type": "string"
            }
          },
          "metadata": {},
          "execution_count": 54
        }
      ]
    },
    {
      "cell_type": "code",
      "source": [
        "# save the gan model\n",
        "# cond_gan.save(google_drive_dir+'model/cond_gan.keras')\n",
        "# ! mkdir \"${google_drive_dir}model/cond_gan_generator.keras\"\n",
        "# cond_gan.generator.save('cond_gan_generator.keras')\n",
        "cond_gan.generator.save(google_drive_dir+ 'cond_gan_generator.keras')\n",
        "cond_gan.save(google_drive_dir+ 'cond_gan.keras')"
      ],
      "metadata": {
        "colab": {
          "base_uri": "https://localhost:8080/"
        },
        "id": "B4wq_z7WAk5x",
        "outputId": "f16afc0a-c322-4312-d9fe-3abef6b91126"
      },
      "execution_count": 55,
      "outputs": [
        {
          "output_type": "stream",
          "name": "stderr",
          "text": [
            "/usr/local/lib/python3.10/dist-packages/keras/src/saving/saving_api.py:164: UserWarning: You are saving a model that has not yet been built. It might not contain any weights yet. Consider building the model first by calling it on some data.\n",
            "  saving_lib.save_model(model, filepath)\n",
            "WARNING:tensorflow:Model's `__init__()` arguments contain non-serializable objects. Please implement a `get_config()` method in the subclassed Model for proper saving and loading. Defaulting to empty config.\n",
            "WARNING:tensorflow:Model's `__init__()` arguments contain non-serializable objects. Please implement a `get_config()` method in the subclassed Model for proper saving and loading. Defaulting to empty config.\n",
            "WARNING:tensorflow:Model's `__init__()` arguments contain non-serializable objects. Please implement a `get_config()` method in the subclassed Model for proper saving and loading. Defaulting to empty config.\n"
          ]
        }
      ]
    },
    {
      "cell_type": "markdown",
      "metadata": {
        "id": "ObDZ7SwT0bqx"
      },
      "source": [
        "## Interpolating between classes with the trained generator"
      ]
    },
    {
      "cell_type": "code",
      "execution_count": 56,
      "metadata": {
        "id": "dN1gOoGh0bqx"
      },
      "outputs": [],
      "source": [
        "# We first extract the trained generator from our Conditional GAN.\n",
        "trained_gen = cond_gan.generator\n",
        "\n",
        "# Choose the number of intermediate images that would be generated in\n",
        "# between the interpolation + 2 (start and last images).\n",
        "num_interpolation = 9  # @param {type:\"integer\"}\n",
        "\n",
        "# Sample noise for the interpolation.\n",
        "interpolation_noise = tf.random.normal(shape=(1, latent_dim))\n",
        "interpolation_noise = tf.repeat(interpolation_noise, repeats=num_interpolation)\n",
        "interpolation_noise = tf.reshape(interpolation_noise, (num_interpolation, latent_dim))\n",
        "\n",
        "def generate_fake(conditional_input):\n",
        "    # conditional_input_cast = tf.cast(conditional_input, tf.float32)\n",
        "    conditional_input_repeat = tf.repeat(conditional_input, repeats=num_interpolation)\n",
        "    conditional_input_repeat = tf.reshape(conditional_input_repeat, [9,10])\n",
        "    noise_and_conditional_input = tf.concat([interpolation_noise, conditional_input_repeat], 1)\n",
        "    fake = trained_gen.predict(noise_and_conditional_input)\n",
        "    return fake\n",
        "# def interpolate_class(first_number, second_number):\n",
        "#     # Convert the start and end labels to one-hot encoded vectors.\n",
        "#     first_label = keras.utils.to_categorical([first_number], num_classes)\n",
        "#     second_label = keras.utils.to_categorical([second_number], num_classes)\n",
        "#     first_label = tf.cast(first_label, tf.float32)\n",
        "#     second_label = tf.cast(second_label, tf.float32)\n",
        "\n",
        "#     # Calculate the interpolation vector between the two labels.\n",
        "#     percent_second_label = tf.linspace(0, 1, num_interpolation)[:, None]\n",
        "#     percent_second_label = tf.cast(percent_second_label, tf.float32)\n",
        "#     interpolation_labels = (\n",
        "#         first_label * (1 - percent_second_label) + second_label * percent_second_label\n",
        "#     )\n",
        "\n",
        "#     # Combine the noise and the labels and run inference with the generator.\n",
        "#     noise_and_labels = tf.concat([interpolation_noise, interpolation_labels], 1)\n",
        "#     fake = trained_gen.predict(noise_and_labels)\n",
        "#     return fake\n",
        "\n",
        "\n",
        "# start_class = 1  # @param {type:\"slider\", min:0, max:9, step:1}\n",
        "# end_class = 5  # @param {type:\"slider\", min:0, max:9, step:1}\n",
        "\n"
      ]
    },
    {
      "cell_type": "code",
      "source": [
        "latent_dim"
      ],
      "metadata": {
        "colab": {
          "base_uri": "https://localhost:8080/"
        },
        "id": "qrwe_4tpRSLo",
        "outputId": "21531fe1-02bb-415a-96df-df327eb31d61"
      },
      "execution_count": 57,
      "outputs": [
        {
          "output_type": "execute_result",
          "data": {
            "text/plain": [
              "128"
            ]
          },
          "metadata": {},
          "execution_count": 57
        }
      ]
    },
    {
      "cell_type": "code",
      "source": [
        "conditional_input = X_test[conditional_features].values[1]"
      ],
      "metadata": {
        "id": "fgyXBWEbO_TH"
      },
      "execution_count": 61,
      "outputs": []
    },
    {
      "cell_type": "code",
      "source": [
        "conditional_input_std = np.float32((conditional_input - mean) / std)"
      ],
      "metadata": {
        "id": "W2RY62NaRJCC"
      },
      "execution_count": 62,
      "outputs": []
    },
    {
      "cell_type": "markdown",
      "metadata": {
        "id": "p_2eg8rK0bqx"
      },
      "source": [
        "Here, we first sample noise from a normal distribution and then we repeat that for\n",
        "`num_interpolation` times and reshape the result accordingly.\n",
        "We then distribute it uniformly for `num_interpolation`\n",
        "with the label identities being present in some proportion."
      ]
    },
    {
      "cell_type": "code",
      "source": [
        "fake_images = generate_fake(conditional_input_std)"
      ],
      "metadata": {
        "colab": {
          "base_uri": "https://localhost:8080/"
        },
        "id": "irFUOOfROzdA",
        "outputId": "409ede7a-9ed7-46f9-c7c7-251d7d3d9ff1"
      },
      "execution_count": 63,
      "outputs": [
        {
          "output_type": "stream",
          "name": "stdout",
          "text": [
            "1/1 [==============================] - 0s 108ms/step\n"
          ]
        }
      ]
    },
    {
      "cell_type": "code",
      "source": [
        "#fake_images [0]"
      ],
      "metadata": {
        "id": "u74jGlZ0Valt"
      },
      "execution_count": 64,
      "outputs": []
    },
    {
      "cell_type": "code",
      "execution_count": 65,
      "metadata": {
        "id": "xMuKXZSp0bqx"
      },
      "outputs": [],
      "source": [
        "fake_images *= 255.0\n",
        "converted_images = fake_images.astype(np.uint8)\n",
        "converted_images = tf.image.resize(converted_images, (16, 16)).numpy().astype(np.uint8)\n",
        "\n",
        "\n",
        "# imageio.mimsave(\"animation.gif\", converted_images, fps=1)\n",
        "# embed.embed_file(\"animation.gif\")"
      ]
    },
    {
      "cell_type": "markdown",
      "metadata": {
        "id": "tKY0U1yR0bqx"
      },
      "source": [
        "We can further improve the performance of this model with recipes like\n",
        "[WGAN-GP](https://keras.io/examples/generative/wgan_gp).\n",
        "Conditional generation is also widely used in many modern image generation architectures like\n",
        "[VQ-GANs](https://arxiv.org/abs/2012.09841), [DALL-E](https://openai.com/blog/dall-e/),\n",
        "etc.\n",
        "\n",
        "You can use the trained model hosted on [Hugging Face Hub](https://huggingface.co/keras-io/conditional-gan) and try the demo on [Hugging Face Spaces](https://huggingface.co/spaces/keras-io/conditional-GAN)."
      ]
    },
    {
      "cell_type": "code",
      "source": [
        "# from PIL import Image\n",
        "from matplotlib import pyplot as plt\n",
        "import random\n",
        "fig, ax = plt.subplots(1, 6, figsize=(25,100))\n",
        "\n",
        "for x in range(0,6) :\n",
        "  # im = Image.open(os.path.join(dir_name,str(random.randint(0,species_2D.shape[0]))+'.png'))\n",
        "  ax[x].imshow(converted_images[x])\n",
        "\n",
        "plt.show()\n",
        "plt.tight_layout()"
      ],
      "metadata": {
        "colab": {
          "base_uri": "https://localhost:8080/",
          "height": 276
        },
        "id": "OBv67jstU6Lq",
        "outputId": "a173191b-77c9-4493-c83d-5c7324c95501"
      },
      "execution_count": 66,
      "outputs": [
        {
          "output_type": "display_data",
          "data": {
            "text/plain": [
              "<Figure size 2500x10000 with 6 Axes>"
            ],
            "image/png": "[encoded data removed]"
          },
          "metadata": {}
        },
        {
          "output_type": "display_data",
          "data": {
            "text/plain": [
              "<Figure size 640x480 with 0 Axes>"
            ]
          },
          "metadata": {}
        }
      ]
    },
    {
      "cell_type": "code",
      "source": [],
      "metadata": {
        "id": "54YoUXpZVFix"
      },
      "execution_count": 40,
      "outputs": []
    }
  ],
  "metadata": {
    "accelerator": "GPU",
    "colab": {
      "provenance": [],
      "toc_visible": true,
      "gpuType": "T4",
      "include_colab_link": true
    },
    "kernelspec": {
      "display_name": "Python 3",
      "name": "python3"
    },
    "language_info": {
      "codemirror_mode": {
        "name": "ipython",
        "version": 3
      },
      "file_extension": ".py",
      "mimetype": "text/x-python",
      "name": "python",
      "nbconvert_exporter": "python",
      "pygments_lexer": "ipython3",
      "version": "3.7.0"
    }
  },
  "nbformat": 4,
  "nbformat_minor": 0
}